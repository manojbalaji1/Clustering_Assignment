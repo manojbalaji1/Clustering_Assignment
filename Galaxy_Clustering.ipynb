{
 "cells": [
  {
   "cell_type": "markdown",
   "metadata": {},
   "source": [
    "# Data Mining Assignment"
   ]
  },
  {
   "attachments": {},
   "cell_type": "markdown",
   "metadata": {},
   "source": [
    "Using a futuristic telescope, ISRO gathered data of nebulas that are several lights years away from earth. With some analysis this data is mapped into two dimensional data (file galaxy.xlsx provided with this document). ISRO's scientific probe is converging to a point that shows the formation of five possible star coagulations from these nebulas. As a data scientist you are expected to help ISRO to analyze their data further. Answer the following questions. \n",
    "\n",
    "1.\tFind out the values of DBSCAN parameters (mathematically supported) that prove the hypotheses of ISRO scientists.<br> answers: ϵ=0.15  and min_samples=4, the solution is available in cells from cell-6 to cell-13\n",
    "\t\n",
    "2.\tHow many total outliers and elements are there in each density region?\n",
    "<br> Total number of outliers: 29\n",
    "<br>For cluster 0, the number of members are 411\n",
    "<br>For cluster 1, the number of members are 405\n",
    "<br>For cluster 2, the number of members are 105\n",
    "<br>For cluster 3, the number of members are 99\n",
    "<br>For cluster 4, the number of members are 51\n",
    "<br>The way how it is calculated is shown in  cell-13 to cell-15\n",
    "<br>\n",
    "3.\tWhich one of the dimensions has few outliers if you analyse the data from simple quantile perspective? What are their values? *<br>Answers are calculated from cells cell-3 to cell-5*"
   ]
  },
  {
   "cell_type": "code",
   "execution_count": 1,
   "metadata": {},
   "outputs": [],
   "source": [
    "import pandas as pd"
   ]
  },
  {
   "cell_type": "code",
   "execution_count": 2,
   "metadata": {},
   "outputs": [],
   "source": [
    "df = pd.read_excel(\"./galaxy.xlsx\")"
   ]
  },
  {
   "cell_type": "markdown",
   "metadata": {},
   "source": [
    "## Calculating Statistical Description(5-number data)"
   ]
  },
  {
   "cell_type": "code",
   "execution_count": 3,
   "metadata": {},
   "outputs": [
    {
     "data": {
      "text/html": [
       "<div>\n",
       "<style scoped>\n",
       "    .dataframe tbody tr th:only-of-type {\n",
       "        vertical-align: middle;\n",
       "    }\n",
       "\n",
       "    .dataframe tbody tr th {\n",
       "        vertical-align: top;\n",
       "    }\n",
       "\n",
       "    .dataframe thead th {\n",
       "        text-align: right;\n",
       "    }\n",
       "</style>\n",
       "<table border=\"1\" class=\"dataframe\">\n",
       "  <thead>\n",
       "    <tr style=\"text-align: right;\">\n",
       "      <th></th>\n",
       "      <th>x</th>\n",
       "      <th>y</th>\n",
       "    </tr>\n",
       "  </thead>\n",
       "  <tbody>\n",
       "    <tr>\n",
       "      <th>count</th>\n",
       "      <td>1100.000000</td>\n",
       "      <td>1100.000000</td>\n",
       "    </tr>\n",
       "    <tr>\n",
       "      <th>mean</th>\n",
       "      <td>-0.081222</td>\n",
       "      <td>-0.625431</td>\n",
       "    </tr>\n",
       "    <tr>\n",
       "      <th>std</th>\n",
       "      <td>0.644967</td>\n",
       "      <td>1.176170</td>\n",
       "    </tr>\n",
       "    <tr>\n",
       "      <th>min</th>\n",
       "      <td>-1.489180</td>\n",
       "      <td>-3.353462</td>\n",
       "    </tr>\n",
       "    <tr>\n",
       "      <th>25%</th>\n",
       "      <td>-0.478839</td>\n",
       "      <td>-1.126752</td>\n",
       "    </tr>\n",
       "    <tr>\n",
       "      <th>50%</th>\n",
       "      <td>-0.132920</td>\n",
       "      <td>-0.297040</td>\n",
       "    </tr>\n",
       "    <tr>\n",
       "      <th>75%</th>\n",
       "      <td>0.366072</td>\n",
       "      <td>0.250817</td>\n",
       "    </tr>\n",
       "    <tr>\n",
       "      <th>max</th>\n",
       "      <td>1.492208</td>\n",
       "      <td>1.253874</td>\n",
       "    </tr>\n",
       "  </tbody>\n",
       "</table>\n",
       "</div>"
      ],
      "text/plain": [
       "                 x            y\n",
       "count  1100.000000  1100.000000\n",
       "mean     -0.081222    -0.625431\n",
       "std       0.644967     1.176170\n",
       "min      -1.489180    -3.353462\n",
       "25%      -0.478839    -1.126752\n",
       "50%      -0.132920    -0.297040\n",
       "75%       0.366072     0.250817\n",
       "max       1.492208     1.253874"
      ]
     },
     "execution_count": 3,
     "metadata": {},
     "output_type": "execute_result"
    }
   ],
   "source": [
    "df.describe()"
   ]
  },
  {
   "cell_type": "code",
   "execution_count": 4,
   "metadata": {},
   "outputs": [],
   "source": [
    "stat_df = df.describe()"
   ]
  },
  {
   "attachments": {},
   "cell_type": "markdown",
   "metadata": {},
   "source": [
    " ## Finding outlier using simple quantile\n",
    " \n",
    " "
   ]
  },
  {
   "cell_type": "markdown",
   "metadata": {},
   "source": [
    "The $3^{rd}$ and $1^{st}$ quantile values are calculated as $Q3$ and $Q1$ respectively. "
   ]
  },
  {
   "cell_type": "markdown",
   "metadata": {},
   "source": [
    "The Inter-Quartile value can be calculated as <br>\n",
    "$ IQR = Q3 - Q1 $"
   ]
  },
  {
   "cell_type": "markdown",
   "metadata": {},
   "source": [
    "The maximum and minimum threshold value, $low\\_cap\\_x$ and $high\\_cap\\_x$ for $x$, $low\\_cap\\_y$ and $high\\_cap\\_y$ for $y$ respectively, for the given data distribution, preceeding or exceeding values are henceforth outliers, these values are calculated for each dimension of data, $x$ and $y$ for the current dataset, using the follwing:<br>\n",
    "$low\\_cap\\_x = Q1 - 1.5 * IQR\\_x$<br>\n",
    "$high\\_cap\\_x = Q3 + 1.5 * IQR\\_x$<br>\n",
    "$low\\_cap\\_y = Q1 - 1.5 * IQR\\_y$<br>\n",
    "$high\\_cap\\_y = Q3 + 1.5 * IQR\\_y$<br>"
   ]
  },
  {
   "cell_type": "code",
   "execution_count": 5,
   "metadata": {
    "scrolled": true
   },
   "outputs": [
    {
     "name": "stdout",
     "output_type": "stream",
     "text": [
      "Total number of outliers, for x: 0\n",
      "Total number of outliers, for y: 3\n",
      "Outliers of y are: -3.23179375708166, -3.24834193589759, -3.35346215533992\n"
     ]
    }
   ],
   "source": [
    "# Initializing the quanrtile variables\n",
    "q1_x = stat_df['x'][4]\n",
    "q1_y = stat_df['y'][4]\n",
    "q3_x = stat_df['x'][6]\n",
    "q3_y = stat_df['y'][6]\n",
    "\n",
    "# Computing IQR values, for x and y respectively\n",
    "iqr_x = q3_x - q1_x\n",
    "iqr_y = q3_y - q1_y\n",
    "\n",
    "# Computing the max_cap and min_cap values, for x and y respectively\n",
    "low_cap_x = q1_x - 1.5 * iqr_x\n",
    "high_cap_x = q3_x + 1.5 * iqr_x\n",
    "low_cap_y = q1_y - 1.5 * iqr_y\n",
    "high_cap_y = q3_y + 1.5 * iqr_y\n",
    "\n",
    "# Calculating number of outliers and outliers, for x and y respectively\n",
    "outlier_x = df[(df.x>high_cap_x) | (df.x<low_cap_x)]['x']\n",
    "outlier_y = df[(df.y>high_cap_y) | (df.y<low_cap_y)]['y']\n",
    "\n",
    "print(\"Total number of outliers, for x: {}\".format(outlier_x.count()))\n",
    "print(\"Total number of outliers, for y: {}\".format(outlier_y.count()))\n",
    "\n",
    "if outlier_x.count():\n",
    "    print(\"Outliers of x are: [{}]\".format(\", \".join(outlier_x.astype(str).values.tolist())))\n",
    "if outlier_y.count():\n",
    "    print(\"Outliers of y are: {}\".format(\", \".join(outlier_y.astype(str).values.tolist())))"
   ]
  },
  {
   "cell_type": "markdown",
   "metadata": {},
   "source": [
    "## Visualizing the dataset"
   ]
  },
  {
   "cell_type": "code",
   "execution_count": 6,
   "metadata": {},
   "outputs": [
    {
     "data": {
      "text/plain": [
       "<Figure size 640x480 with 1 Axes>"
      ]
     },
     "metadata": {},
     "output_type": "display_data"
    }
   ],
   "source": [
    "import matplotlib.pyplot as plt\n",
    "plt.scatter(df['x'], df['y'], alpha=0.5)\n",
    "plt.show()"
   ]
  },
  {
   "cell_type": "markdown",
   "metadata": {},
   "source": [
    "## DBSCAN\n",
    "\n",
    "We need to estimate 2 parameters for DBSCAN algorithm <br>\n",
    "1. $\\epsilon$: specifies how close points should be to each other to be considered a part of a cluster. It means that if the distance between two points is lower or equal to this value ($\\epsilon$), these points are considered neighbors. <br>\n",
    "2. min_samples: the minimum number of points to form a dense region. For example, if we set the minPoints parameter as 5, then we need at least 5 points to form a dense region"
   ]
  },
  {
   "cell_type": "markdown",
   "metadata": {},
   "source": [
    "## Calculate min_samples\n",
    "By referring to paper A Density-Based Algorithm for Discovering Clusters\n",
    "in Large Spatial Databases with Noise, Auhored by Martin Ester, Hans-Peter Kriegel, Jörg Sander, Xiaowei X<br>\n",
    "For two-dimensional data: use default value of min_samples=4 (Ester et al., 1996)<br>\n",
    "For more than 2 dimensions: min_samples=2*dim (Sander et al., 1998) where dim is dimension of the dataset"
   ]
  },
  {
   "cell_type": "markdown",
   "metadata": {},
   "source": [
    "## Calculate $\\epsilon$\n",
    "To calculate the $\\epsilon$, We will use the Elbow(or knee) method<br> \n",
    "The idea is to calculate, the average of the distances of every point to its k nearest neighbors. The value of k will be specified by the user and corresponds to min_samples.\n",
    "\n",
    "Next, these k-distances are plotted in an ascending order. The aim is to determine the “knee”, which corresponds to the optimal $\\epsilon$ parameter.\n",
    "\n",
    "A knee corresponds to a threshold where a sharp change occurs along the k-distance curve."
   ]
  },
  {
   "cell_type": "code",
   "execution_count": 7,
   "metadata": {},
   "outputs": [
    {
     "data": {
      "text/plain": [
       "[<matplotlib.lines.Line2D at 0x7fc20fb651d0>]"
      ]
     },
     "execution_count": 7,
     "metadata": {},
     "output_type": "execute_result"
    },
    {
     "data": {
      "image/png": "[encoded data removed]",
      "text/plain": [
       "<Figure size 432x288 with 1 Axes>"
      ]
     },
     "metadata": {
      "needs_background": "light"
     },
     "output_type": "display_data"
    }
   ],
   "source": [
    "from sklearn.neighbors import NearestNeighbors\n",
    "k = 4\n",
    "nbrs = NearestNeighbors(n_neighbors=k).fit(df)\n",
    "distances, indices = nbrs.kneighbors(df)\n",
    "distance_dec_df = sorted(distances[:,k-1], reverse=True)\n",
    "plt.plot(indices[:,0], distance_dec_df)"
   ]
  },
  {
   "cell_type": "markdown",
   "metadata": {},
   "source": [
    "From the above graph we can estimate that $\\epsilon$ is between 0.1-0.2, taking an average value i.e $(0.1+0.2)/2=0.15$, thus $\\epsilon = 0.15$(approx.)"
   ]
  },
  {
   "cell_type": "markdown",
   "metadata": {},
   "source": [
    "## Using DBSCAN to cluster"
   ]
  },
  {
   "cell_type": "code",
   "execution_count": 8,
   "metadata": {},
   "outputs": [],
   "source": [
    "from sklearn.cluster import DBSCAN\n",
    "clusters = DBSCAN(min_samples=4, eps=0.15).fit_predict(df)\n"
   ]
  },
  {
   "cell_type": "code",
   "execution_count": 9,
   "metadata": {},
   "outputs": [],
   "source": [
    "result = df.copy()\n",
    "result['cluster'] = clusters"
   ]
  },
  {
   "cell_type": "code",
   "execution_count": 10,
   "metadata": {
    "scrolled": true
   },
   "outputs": [
    {
     "data": {
      "text/plain": [
       " 0    411\n",
       " 1    405\n",
       " 2    105\n",
       " 3     99\n",
       " 4     51\n",
       "-1     29\n",
       "Name: cluster, dtype: int64"
      ]
     },
     "execution_count": 10,
     "metadata": {},
     "output_type": "execute_result"
    }
   ],
   "source": [
    "result['cluster'].value_counts()"
   ]
  },
  {
   "cell_type": "markdown",
   "metadata": {},
   "source": [
    "## Visualizing the cluster results"
   ]
  },
  {
   "cell_type": "code",
   "execution_count": 11,
   "metadata": {},
   "outputs": [],
   "source": [
    "# ignore if failed\n",
    "try:\n",
    "    import seaborn as sns\n",
    "    sns.set()\n",
    "except Exception as e:\n",
    "    pass"
   ]
  },
  {
   "cell_type": "code",
   "execution_count": 12,
   "metadata": {},
   "outputs": [
    {
     "data": {
      "image/png": "[encoded data removed]",
      "text/plain": [
       "<Figure size 432x288 with 1 Axes>"
      ]
     },
     "metadata": {},
     "output_type": "display_data"
    }
   ],
   "source": [
    "import matplotlib.pyplot as plt\n",
    "\n",
    "fig, ax = plt.subplots()\n",
    "colors = ['black', 'blue', 'green', '#FF7F50', '#FFD700', '#7FFF00', '#FFD700']\n",
    "for i in [-1, 0,1,2,3,4]:\n",
    "    d = result.loc[result['cluster']==i]\n",
    "    ax.scatter(d['x'], d['y'], c=colors[i+1],  alpha=1, edgecolors='none')\n",
    "\n",
    "\n",
    "ax.grid(True)\n",
    "plt.show()"
   ]
  },
  {
   "cell_type": "markdown",
   "metadata": {},
   "source": [
    "In the above diagram, the data is clustered to form 5 clusters shown by the colors blue, crimson, gold, light green and drak green. The outliers are shown in black color"
   ]
  },
  {
   "cell_type": "markdown",
   "metadata": {},
   "source": [
    "Thus we can conclude that using the above mentioned values of $\\epsilon=0.15$ and $min\\_samples=4$, found mathematically, proves the hypothesis of the ISRO scientists"
   ]
  },
  {
   "cell_type": "markdown",
   "metadata": {},
   "source": [
    "## Total outliers and Cluster-wise member count"
   ]
  },
  {
   "cell_type": "code",
   "execution_count": 13,
   "metadata": {},
   "outputs": [],
   "source": [
    "cluster_count = pd.DataFrame(result['cluster'].value_counts())"
   ]
  },
  {
   "cell_type": "code",
   "execution_count": 14,
   "metadata": {},
   "outputs": [],
   "source": [
    "cluster_count.reset_index(inplace=True)"
   ]
  },
  {
   "cell_type": "code",
   "execution_count": 15,
   "metadata": {},
   "outputs": [
    {
     "name": "stdout",
     "output_type": "stream",
     "text": [
      "Total number of outliers: 29\n",
      "For cluster 0, the number of members are 411\n",
      "For cluster 1, the number of members are 405\n",
      "For cluster 2, the number of members are 105\n",
      "For cluster 3, the number of members are 99\n",
      "For cluster 4, the number of members are 51\n"
     ]
    }
   ],
   "source": [
    "print(\"Total number of outliers: {}\".format(result[result.cluster==-1]['cluster'].count()))\n",
    "for index, row in cluster_count[cluster_count[\"index\"]!=-1].iterrows():\n",
    "    print(\"For cluster {0}, the number of members are {1}\".format(row['index'], row['cluster']))"
   ]
  }
 ],
 "metadata": {
  "kernelspec": {
   "display_name": "Python 3",
   "language": "python",
   "name": "python3"
  },
  "language_info": {
   "codemirror_mode": {
    "name": "ipython",
    "version": 3
   },
   "file_extension": ".py",
   "mimetype": "text/x-python",
   "name": "python",
   "nbconvert_exporter": "python",
   "pygments_lexer": "ipython3",
   "version": "3.6.7"
  }
 },
 "nbformat": 4,
 "nbformat_minor": 2
}
